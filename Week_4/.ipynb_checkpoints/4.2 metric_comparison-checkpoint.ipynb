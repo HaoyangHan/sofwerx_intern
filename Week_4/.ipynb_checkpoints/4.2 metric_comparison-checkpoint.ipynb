{
 "cells": [
  {
   "cell_type": "markdown",
   "metadata": {},
   "source": [
    "# Week 4\n",
    "\n",
    "Haoyang Han<br>\n",
    "\n",
    "\n",
    "several method of model comparison and performance metric comparison:\n",
    "\n",
    "**performance metric comparison**\n",
    "\n",
    "---\n",
    "\n",
    "since this problem is classification(and somehow biased), here we will discuss following metrics:\n",
    "\n",
    "1. Confusion metric\n",
    "2. Accuracy\n",
    "3. Precision\n",
    "4. Recall\n",
    "5. F1 Score\n",
    "\n",
    "This comparison should based on logistic regression.\n",
    "\n",
    "\n",
    "\n",
    "---\n",
    "\n",
    "\n",
    "\n",
    "\n",
    "\n",
    "    \n",
    "\n"
   ]
  },
  {
   "cell_type": "code",
   "execution_count": 5,
   "metadata": {},
   "outputs": [
    {
     "name": "stdout",
     "output_type": "stream",
     "text": [
      "3.0.2\n",
      "0.9.0\n"
     ]
    }
   ],
   "source": [
    "# !pip install brewer2mpl\n",
    "# import necessary package\n",
    "\n",
    "import numpy as np\n",
    "import pandas as pd\n",
    "import matplotlib as mpl\n",
    "import matplotlib.pyplot as plt\n",
    "import seaborn as sns\n",
    "import warnings; warnings.filterwarnings(action='once')\n",
    "\n",
    "from sklearn.preprocessing import LabelEncoder\n",
    "from sklearn.preprocessing import Imputer\n",
    "\n",
    "pd.set_option('display.max_row',100)\n",
    "pd.set_option('display.max_column',100)\n",
    "pd.set_option('display.float_format', lambda x: '%.5f' % x)\n",
    "\n",
    "\n",
    "large = 22; med = 16; small = 12\n",
    "params = {'axes.titlesize': large,\n",
    "          'legend.fontsize': med,\n",
    "          'figure.figsize': (16, 10),\n",
    "          'axes.labelsize': med,\n",
    "          'axes.titlesize': med,\n",
    "          'xtick.labelsize': med,\n",
    "          'ytick.labelsize': med,\n",
    "          'figure.titlesize': large}\n",
    "\n",
    "\n",
    "plt.rcParams.update(params)\n",
    "plt.style.use('seaborn-whitegrid')\n",
    "sns.set_style(\"white\")\n",
    "%matplotlib inline\n",
    "\n",
    "# Version\n",
    "print(mpl.__version__)  #> 3.0.0\n",
    "print(sns.__version__)  #> 0.9.0"
   ]
  },
  {
   "cell_type": "markdown",
   "metadata": {},
   "source": [
    "###  1. import data and description"
   ]
  },
  {
   "cell_type": "code",
   "execution_count": 6,
   "metadata": {},
   "outputs": [
    {
     "name": "stdout",
     "output_type": "stream",
     "text": [
      "Data Cleaning.ipynb    model_comparison.ipynb\r\n",
      "labeled_data.csv       transformed_data.csv\r\n"
     ]
    }
   ],
   "source": [
    "!ls"
   ]
  },
  {
   "cell_type": "code",
   "execution_count": 14,
   "metadata": {},
   "outputs": [],
   "source": [
    "data = pd.read_csv('transformed_data.csv')"
   ]
  },
  {
   "cell_type": "code",
   "execution_count": 8,
   "metadata": {},
   "outputs": [
    {
     "name": "stdout",
     "output_type": "stream",
     "text": [
      "Checking whether there is an H2O instance running at http://localhost:54321. connected.\n"
     ]
    },
    {
     "data": {
      "text/html": [
       "<div style=\"overflow:auto\"><table style=\"width:50%\"><tr><td>H2O cluster uptime:</td>\n",
       "<td>6 days 16 hours 36 mins</td></tr>\n",
       "<tr><td>H2O cluster timezone:</td>\n",
       "<td>America/Chicago</td></tr>\n",
       "<tr><td>H2O data parsing timezone:</td>\n",
       "<td>UTC</td></tr>\n",
       "<tr><td>H2O cluster version:</td>\n",
       "<td>3.22.1.1</td></tr>\n",
       "<tr><td>H2O cluster version age:</td>\n",
       "<td>1 month and 3 days </td></tr>\n",
       "<tr><td>H2O cluster name:</td>\n",
       "<td>H2O_from_python_kevin_w2g0mh</td></tr>\n",
       "<tr><td>H2O cluster total nodes:</td>\n",
       "<td>1</td></tr>\n",
       "<tr><td>H2O cluster free memory:</td>\n",
       "<td>3.958 Gb</td></tr>\n",
       "<tr><td>H2O cluster total cores:</td>\n",
       "<td>8</td></tr>\n",
       "<tr><td>H2O cluster allowed cores:</td>\n",
       "<td>8</td></tr>\n",
       "<tr><td>H2O cluster status:</td>\n",
       "<td>locked, healthy</td></tr>\n",
       "<tr><td>H2O connection url:</td>\n",
       "<td>http://localhost:54321</td></tr>\n",
       "<tr><td>H2O connection proxy:</td>\n",
       "<td>None</td></tr>\n",
       "<tr><td>H2O internal security:</td>\n",
       "<td>False</td></tr>\n",
       "<tr><td>H2O API Extensions:</td>\n",
       "<td>XGBoost, Algos, AutoML, Core V3, Core V4</td></tr>\n",
       "<tr><td>Python version:</td>\n",
       "<td>3.6.4 final</td></tr></table></div>"
      ],
      "text/plain": [
       "--------------------------  ----------------------------------------\n",
       "H2O cluster uptime:         6 days 16 hours 36 mins\n",
       "H2O cluster timezone:       America/Chicago\n",
       "H2O data parsing timezone:  UTC\n",
       "H2O cluster version:        3.22.1.1\n",
       "H2O cluster version age:    1 month and 3 days\n",
       "H2O cluster name:           H2O_from_python_kevin_w2g0mh\n",
       "H2O cluster total nodes:    1\n",
       "H2O cluster free memory:    3.958 Gb\n",
       "H2O cluster total cores:    8\n",
       "H2O cluster allowed cores:  8\n",
       "H2O cluster status:         locked, healthy\n",
       "H2O connection url:         http://localhost:54321\n",
       "H2O connection proxy:\n",
       "H2O internal security:      False\n",
       "H2O API Extensions:         XGBoost, Algos, AutoML, Core V3, Core V4\n",
       "Python version:             3.6.4 final\n",
       "--------------------------  ----------------------------------------"
      ]
     },
     "metadata": {},
     "output_type": "display_data"
    }
   ],
   "source": [
    "import h2o\n",
    "h2o.init()"
   ]
  },
  {
   "cell_type": "code",
   "execution_count": 9,
   "metadata": {
    "scrolled": true
   },
   "outputs": [
    {
     "name": "stdout",
     "output_type": "stream",
     "text": [
      "[WARNING] in <ipython-input-9-1ea49f0103fa> line 1:\n",
      "    >>> h2o.shutdown(prompt = True)\n",
      "        ^^^^ Deprecated, use ``h2o.cluster().shutdown()``.\n",
      "Are you sure you want to shutdown the H2O instance running at http://localhost:54321 (Y/N)? N\n"
     ]
    }
   ],
   "source": [
    "h2o.shutdown(prompt = True)"
   ]
  },
  {
   "cell_type": "code",
   "execution_count": 15,
   "metadata": {},
   "outputs": [
    {
     "data": {
      "text/html": [
       "<div>\n",
       "<style scoped>\n",
       "    .dataframe tbody tr th:only-of-type {\n",
       "        vertical-align: middle;\n",
       "    }\n",
       "\n",
       "    .dataframe tbody tr th {\n",
       "        vertical-align: top;\n",
       "    }\n",
       "\n",
       "    .dataframe thead th {\n",
       "        text-align: right;\n",
       "    }\n",
       "</style>\n",
       "<table border=\"1\" class=\"dataframe\">\n",
       "  <thead>\n",
       "    <tr style=\"text-align: right;\">\n",
       "      <th></th>\n",
       "      <th>Unnamed: 0</th>\n",
       "      <th>Lat</th>\n",
       "      <th>Alt</th>\n",
       "      <th>Provider</th>\n",
       "      <th>FixSatCount</th>\n",
       "      <th>HasRadialAccuracy</th>\n",
       "      <th>HasVerticalAccuracy</th>\n",
       "      <th>HasSpeed</th>\n",
       "      <th>Speed</th>\n",
       "      <th>HasBearing</th>\n",
       "      <th>Bearing</th>\n",
       "      <th>BearingAccuracy</th>\n",
       "      <th>n</th>\n",
       "      <th>Attack</th>\n",
       "    </tr>\n",
       "  </thead>\n",
       "  <tbody>\n",
       "    <tr>\n",
       "      <th>0</th>\n",
       "      <td>0</td>\n",
       "      <td>-0.01498</td>\n",
       "      <td>1.07356</td>\n",
       "      <td>-0.92435</td>\n",
       "      <td>-0.83310</td>\n",
       "      <td>-0.92435</td>\n",
       "      <td>-0.92435</td>\n",
       "      <td>-0.92265</td>\n",
       "      <td>-0.33750</td>\n",
       "      <td>-0.42627</td>\n",
       "      <td>-0.22922</td>\n",
       "      <td>0.00000</td>\n",
       "      <td>-1.68701</td>\n",
       "      <td>False</td>\n",
       "    </tr>\n",
       "    <tr>\n",
       "      <th>1</th>\n",
       "      <td>1</td>\n",
       "      <td>-0.01498</td>\n",
       "      <td>1.07356</td>\n",
       "      <td>-0.92435</td>\n",
       "      <td>-0.83310</td>\n",
       "      <td>-0.92435</td>\n",
       "      <td>-0.92435</td>\n",
       "      <td>-0.92265</td>\n",
       "      <td>-0.33750</td>\n",
       "      <td>-0.42627</td>\n",
       "      <td>-0.22922</td>\n",
       "      <td>0.00000</td>\n",
       "      <td>-1.68700</td>\n",
       "      <td>False</td>\n",
       "    </tr>\n",
       "    <tr>\n",
       "      <th>2</th>\n",
       "      <td>2</td>\n",
       "      <td>-0.01498</td>\n",
       "      <td>1.07356</td>\n",
       "      <td>-0.92435</td>\n",
       "      <td>-0.83310</td>\n",
       "      <td>-0.92435</td>\n",
       "      <td>-0.92435</td>\n",
       "      <td>-0.92265</td>\n",
       "      <td>-0.33750</td>\n",
       "      <td>-0.42627</td>\n",
       "      <td>-0.22922</td>\n",
       "      <td>0.00000</td>\n",
       "      <td>-1.68700</td>\n",
       "      <td>False</td>\n",
       "    </tr>\n",
       "    <tr>\n",
       "      <th>3</th>\n",
       "      <td>3</td>\n",
       "      <td>-0.01498</td>\n",
       "      <td>1.07356</td>\n",
       "      <td>-0.92435</td>\n",
       "      <td>-0.83310</td>\n",
       "      <td>-0.92435</td>\n",
       "      <td>-0.92435</td>\n",
       "      <td>-0.92265</td>\n",
       "      <td>-0.33750</td>\n",
       "      <td>-0.42627</td>\n",
       "      <td>-0.22922</td>\n",
       "      <td>0.00000</td>\n",
       "      <td>-1.68699</td>\n",
       "      <td>False</td>\n",
       "    </tr>\n",
       "    <tr>\n",
       "      <th>4</th>\n",
       "      <td>4</td>\n",
       "      <td>-0.01498</td>\n",
       "      <td>1.07356</td>\n",
       "      <td>-0.92435</td>\n",
       "      <td>-0.83310</td>\n",
       "      <td>-0.92435</td>\n",
       "      <td>-0.92435</td>\n",
       "      <td>-0.92265</td>\n",
       "      <td>-0.33750</td>\n",
       "      <td>-0.42627</td>\n",
       "      <td>-0.22922</td>\n",
       "      <td>0.00000</td>\n",
       "      <td>-1.68698</td>\n",
       "      <td>False</td>\n",
       "    </tr>\n",
       "  </tbody>\n",
       "</table>\n",
       "</div>"
      ],
      "text/plain": [
       "   Unnamed: 0      Lat     Alt  Provider  FixSatCount  HasRadialAccuracy  \\\n",
       "0           0 -0.01498 1.07356  -0.92435     -0.83310           -0.92435   \n",
       "1           1 -0.01498 1.07356  -0.92435     -0.83310           -0.92435   \n",
       "2           2 -0.01498 1.07356  -0.92435     -0.83310           -0.92435   \n",
       "3           3 -0.01498 1.07356  -0.92435     -0.83310           -0.92435   \n",
       "4           4 -0.01498 1.07356  -0.92435     -0.83310           -0.92435   \n",
       "\n",
       "   HasVerticalAccuracy  HasSpeed    Speed  HasBearing  Bearing  \\\n",
       "0             -0.92435  -0.92265 -0.33750    -0.42627 -0.22922   \n",
       "1             -0.92435  -0.92265 -0.33750    -0.42627 -0.22922   \n",
       "2             -0.92435  -0.92265 -0.33750    -0.42627 -0.22922   \n",
       "3             -0.92435  -0.92265 -0.33750    -0.42627 -0.22922   \n",
       "4             -0.92435  -0.92265 -0.33750    -0.42627 -0.22922   \n",
       "\n",
       "   BearingAccuracy        n  Attack  \n",
       "0          0.00000 -1.68701   False  \n",
       "1          0.00000 -1.68700   False  \n",
       "2          0.00000 -1.68700   False  \n",
       "3          0.00000 -1.68699   False  \n",
       "4          0.00000 -1.68698   False  "
      ]
     },
     "execution_count": 15,
     "metadata": {},
     "output_type": "execute_result"
    }
   ],
   "source": [
    "data.head()"
   ]
  },
  {
   "cell_type": "code",
   "execution_count": 16,
   "metadata": {},
   "outputs": [
    {
     "data": {
      "text/html": [
       "<div>\n",
       "<style scoped>\n",
       "    .dataframe tbody tr th:only-of-type {\n",
       "        vertical-align: middle;\n",
       "    }\n",
       "\n",
       "    .dataframe tbody tr th {\n",
       "        vertical-align: top;\n",
       "    }\n",
       "\n",
       "    .dataframe thead th {\n",
       "        text-align: right;\n",
       "    }\n",
       "</style>\n",
       "<table border=\"1\" class=\"dataframe\">\n",
       "  <thead>\n",
       "    <tr style=\"text-align: right;\">\n",
       "      <th></th>\n",
       "      <th>Unnamed: 0</th>\n",
       "      <th>Lat</th>\n",
       "      <th>Alt</th>\n",
       "      <th>Provider</th>\n",
       "      <th>FixSatCount</th>\n",
       "      <th>HasRadialAccuracy</th>\n",
       "      <th>HasVerticalAccuracy</th>\n",
       "      <th>HasSpeed</th>\n",
       "      <th>Speed</th>\n",
       "      <th>HasBearing</th>\n",
       "      <th>Bearing</th>\n",
       "      <th>BearingAccuracy</th>\n",
       "      <th>n</th>\n",
       "    </tr>\n",
       "  </thead>\n",
       "  <tbody>\n",
       "    <tr>\n",
       "      <th>count</th>\n",
       "      <td>368537.00000</td>\n",
       "      <td>368537.00000</td>\n",
       "      <td>368537.00000</td>\n",
       "      <td>368537.00000</td>\n",
       "      <td>368537.00000</td>\n",
       "      <td>368537.00000</td>\n",
       "      <td>368537.00000</td>\n",
       "      <td>368537.00000</td>\n",
       "      <td>368537.00000</td>\n",
       "      <td>368537.00000</td>\n",
       "      <td>368537.00000</td>\n",
       "      <td>368537.00000</td>\n",
       "      <td>368537.00000</td>\n",
       "    </tr>\n",
       "    <tr>\n",
       "      <th>mean</th>\n",
       "      <td>184268.00000</td>\n",
       "      <td>0.00000</td>\n",
       "      <td>-0.00000</td>\n",
       "      <td>0.00000</td>\n",
       "      <td>-0.00000</td>\n",
       "      <td>0.00000</td>\n",
       "      <td>0.00000</td>\n",
       "      <td>0.00000</td>\n",
       "      <td>-0.00000</td>\n",
       "      <td>-0.00000</td>\n",
       "      <td>-0.00000</td>\n",
       "      <td>0.00000</td>\n",
       "      <td>0.00000</td>\n",
       "    </tr>\n",
       "    <tr>\n",
       "      <th>std</th>\n",
       "      <td>106387.61242</td>\n",
       "      <td>1.00000</td>\n",
       "      <td>1.00000</td>\n",
       "      <td>1.00000</td>\n",
       "      <td>1.00000</td>\n",
       "      <td>1.00000</td>\n",
       "      <td>1.00000</td>\n",
       "      <td>1.00000</td>\n",
       "      <td>1.00000</td>\n",
       "      <td>1.00000</td>\n",
       "      <td>1.00000</td>\n",
       "      <td>1.00000</td>\n",
       "      <td>1.00000</td>\n",
       "    </tr>\n",
       "    <tr>\n",
       "      <th>min</th>\n",
       "      <td>0.00000</td>\n",
       "      <td>-2.06798</td>\n",
       "      <td>-15.19010</td>\n",
       "      <td>-0.92435</td>\n",
       "      <td>-0.83310</td>\n",
       "      <td>-0.92435</td>\n",
       "      <td>-0.92435</td>\n",
       "      <td>-0.92265</td>\n",
       "      <td>-0.33750</td>\n",
       "      <td>-0.42627</td>\n",
       "      <td>-0.22922</td>\n",
       "      <td>-0.51352</td>\n",
       "      <td>-1.69095</td>\n",
       "    </tr>\n",
       "    <tr>\n",
       "      <th>25%</th>\n",
       "      <td>92134.00000</td>\n",
       "      <td>-0.62328</td>\n",
       "      <td>-0.55987</td>\n",
       "      <td>-0.92435</td>\n",
       "      <td>-0.83310</td>\n",
       "      <td>-0.92435</td>\n",
       "      <td>-0.92435</td>\n",
       "      <td>-0.92265</td>\n",
       "      <td>-0.33750</td>\n",
       "      <td>-0.42627</td>\n",
       "      <td>-0.22922</td>\n",
       "      <td>-0.51352</td>\n",
       "      <td>-0.75771</td>\n",
       "    </tr>\n",
       "    <tr>\n",
       "      <th>50%</th>\n",
       "      <td>184268.00000</td>\n",
       "      <td>-0.01829</td>\n",
       "      <td>0.00380</td>\n",
       "      <td>-0.92435</td>\n",
       "      <td>-0.83310</td>\n",
       "      <td>-0.92435</td>\n",
       "      <td>-0.92435</td>\n",
       "      <td>-0.92265</td>\n",
       "      <td>-0.33750</td>\n",
       "      <td>-0.42627</td>\n",
       "      <td>-0.22922</td>\n",
       "      <td>0.00000</td>\n",
       "      <td>-0.11425</td>\n",
       "    </tr>\n",
       "    <tr>\n",
       "      <th>75%</th>\n",
       "      <td>276402.00000</td>\n",
       "      <td>0.00325</td>\n",
       "      <td>0.76296</td>\n",
       "      <td>1.08183</td>\n",
       "      <td>0.99372</td>\n",
       "      <td>1.08183</td>\n",
       "      <td>1.08183</td>\n",
       "      <td>1.08383</td>\n",
       "      <td>-0.05012</td>\n",
       "      <td>-0.42627</td>\n",
       "      <td>-0.22922</td>\n",
       "      <td>0.00000</td>\n",
       "      <td>0.80479</td>\n",
       "    </tr>\n",
       "    <tr>\n",
       "      <th>max</th>\n",
       "      <td>368536.00000</td>\n",
       "      <td>2.14346</td>\n",
       "      <td>4.60951</td>\n",
       "      <td>1.08183</td>\n",
       "      <td>2.51607</td>\n",
       "      <td>1.08183</td>\n",
       "      <td>1.08183</td>\n",
       "      <td>1.08383</td>\n",
       "      <td>17.55184</td>\n",
       "      <td>2.34591</td>\n",
       "      <td>55.57270</td>\n",
       "      <td>57.08746</td>\n",
       "      <td>2.04687</td>\n",
       "    </tr>\n",
       "  </tbody>\n",
       "</table>\n",
       "</div>"
      ],
      "text/plain": [
       "        Unnamed: 0          Lat          Alt     Provider  FixSatCount  \\\n",
       "count 368537.00000 368537.00000 368537.00000 368537.00000 368537.00000   \n",
       "mean  184268.00000      0.00000     -0.00000      0.00000     -0.00000   \n",
       "std   106387.61242      1.00000      1.00000      1.00000      1.00000   \n",
       "min        0.00000     -2.06798    -15.19010     -0.92435     -0.83310   \n",
       "25%    92134.00000     -0.62328     -0.55987     -0.92435     -0.83310   \n",
       "50%   184268.00000     -0.01829      0.00380     -0.92435     -0.83310   \n",
       "75%   276402.00000      0.00325      0.76296      1.08183      0.99372   \n",
       "max   368536.00000      2.14346      4.60951      1.08183      2.51607   \n",
       "\n",
       "       HasRadialAccuracy  HasVerticalAccuracy     HasSpeed        Speed  \\\n",
       "count       368537.00000         368537.00000 368537.00000 368537.00000   \n",
       "mean             0.00000              0.00000      0.00000     -0.00000   \n",
       "std              1.00000              1.00000      1.00000      1.00000   \n",
       "min             -0.92435             -0.92435     -0.92265     -0.33750   \n",
       "25%             -0.92435             -0.92435     -0.92265     -0.33750   \n",
       "50%             -0.92435             -0.92435     -0.92265     -0.33750   \n",
       "75%              1.08183              1.08183      1.08383     -0.05012   \n",
       "max              1.08183              1.08183      1.08383     17.55184   \n",
       "\n",
       "        HasBearing      Bearing  BearingAccuracy            n  \n",
       "count 368537.00000 368537.00000     368537.00000 368537.00000  \n",
       "mean      -0.00000     -0.00000          0.00000      0.00000  \n",
       "std        1.00000      1.00000          1.00000      1.00000  \n",
       "min       -0.42627     -0.22922         -0.51352     -1.69095  \n",
       "25%       -0.42627     -0.22922         -0.51352     -0.75771  \n",
       "50%       -0.42627     -0.22922          0.00000     -0.11425  \n",
       "75%       -0.42627     -0.22922          0.00000      0.80479  \n",
       "max        2.34591     55.57270         57.08746      2.04687  "
      ]
     },
     "execution_count": 16,
     "metadata": {},
     "output_type": "execute_result"
    }
   ],
   "source": [
    "data.describe()"
   ]
  },
  {
   "cell_type": "code",
   "execution_count": 20,
   "metadata": {},
   "outputs": [],
   "source": [
    "X = data.iloc[:,1:-1]\n",
    "y = data.iloc[:,-1]"
   ]
  },
  {
   "cell_type": "code",
   "execution_count": 21,
   "metadata": {},
   "outputs": [
    {
     "name": "stderr",
     "output_type": "stream",
     "text": [
      "/Users/kevin/anaconda3/lib/python3.6/importlib/_bootstrap.py:219: RuntimeWarning: numpy.dtype size changed, may indicate binary incompatibility. Expected 96, got 88\n",
      "  return f(*args, **kwds)\n",
      "/Users/kevin/anaconda3/lib/python3.6/importlib/_bootstrap.py:219: ImportWarning: can't resolve package from __spec__ or __package__, falling back on __name__ and __path__\n",
      "  return f(*args, **kwds)\n"
     ]
    }
   ],
   "source": [
    "from sklearn.model_selection import train_test_split\n",
    "X_train, X_test, y_train, y_test = train_test_split(X, y, test_size=0.25, random_state=500, shuffle = True)"
   ]
  },
  {
   "cell_type": "markdown",
   "metadata": {},
   "source": [
    "### 2. metric comparison"
   ]
  },
  {
   "cell_type": "code",
   "execution_count": 24,
   "metadata": {},
   "outputs": [
    {
     "data": {
      "text/plain": [
       "LogisticRegression(C=1.0, class_weight=None, dual=False, fit_intercept=True,\n",
       "          intercept_scaling=1, max_iter=500, multi_class='ovr', n_jobs=1,\n",
       "          penalty='l2', random_state=None, solver='liblinear', tol=0.0001,\n",
       "          verbose=0, warm_start=False)"
      ]
     },
     "execution_count": 24,
     "metadata": {},
     "output_type": "execute_result"
    }
   ],
   "source": [
    "from sklearn.linear_model import LogisticRegression\n",
    "\n",
    "lr = LogisticRegression(max_iter = 500)\n",
    "\n",
    "lr.fit(X_train, y_train)"
   ]
  },
  {
   "cell_type": "code",
   "execution_count": 25,
   "metadata": {},
   "outputs": [],
   "source": [
    "y_pred = lr.predict(X_test)"
   ]
  },
  {
   "cell_type": "code",
   "execution_count": null,
   "metadata": {},
   "outputs": [],
   "source": [
    "'''\n",
    "metrics.accuracy_score(y_true, y_pred[, …])\tAccuracy classification score.\n",
    "metrics.auc(x, y[, reorder])\tCompute Area Under the Curve (AUC) using the trapezoidal rule\n",
    "metrics.average_precision_score(y_true, y_score)\tCompute average precision (AP) from prediction scores\n",
    "metrics.balanced_accuracy_score(y_true, y_pred)\tCompute the balanced accuracy\n",
    "metrics.brier_score_loss(y_true, y_prob[, …])\tCompute the Brier score.\n",
    "metrics.classification_report(y_true, y_pred)\tBuild a text report showing the main classification metrics\n",
    "metrics.cohen_kappa_score(y1, y2[, labels, …])\tCohen’s kappa: a statistic that measures inter-annotator agreement.\n",
    "metrics.confusion_matrix(y_true, y_pred[, …])\tCompute confusion matrix to evaluate the accuracy of a classification\n",
    "metrics.f1_score(y_true, y_pred[, labels, …])\tCompute the F1 score, also known as balanced F-score or F-measure\n",
    "metrics.fbeta_score(y_true, y_pred, beta[, …])\tCompute the F-beta score\n",
    "metrics.hamming_loss(y_true, y_pred[, …])\tCompute the average Hamming loss.\n",
    "metrics.hinge_loss(y_true, pred_decision[, …])\tAverage hinge loss (non-regularized)\n",
    "metrics.jaccard_similarity_score(y_true, y_pred)\tJaccard similarity coefficient score\n",
    "metrics.log_loss(y_true, y_pred[, eps, …])\tLog loss, aka logistic loss or cross-entropy loss.\n",
    "metrics.matthews_corrcoef(y_true, y_pred[, …])\tCompute the Matthews correlation coefficient (MCC)\n",
    "metrics.precision_recall_curve(y_true, …)\tCompute precision-recall pairs for different probability thresholds\n",
    "metrics.precision_recall_fscore_support(…)\tCompute precision, recall, F-measure and support for each class\n",
    "metrics.precision_score(y_true, y_pred[, …])\tCompute the precision\n",
    "metrics.recall_score(y_true, y_pred[, …])\tCompute the recall\n",
    "metrics.roc_auc_score(y_true, y_score[, …])\tCompute Area Under the Receiver Operating Characteristic Curve (ROC AUC) from prediction scores.\n",
    "metrics.roc_curve(y_true, y_score[, …])\tCompute Receiver operating characteristic (ROC)\n",
    "metrics.zero_one_loss(y_true, y_pred[, …])\tZero-one classification loss.\n",
    "'''"
   ]
  },
  {
   "cell_type": "code",
   "execution_count": 28,
   "metadata": {},
   "outputs": [],
   "source": [
    "from sklearn.metrics import roc_auc_score\n",
    "from sklearn.metrics import accuracy_score\n",
    "\n",
    "from sklearn.metrics import classification_report\n",
    "from sklearn.metrics import cohen_kappa_score\n",
    "\n",
    "from sklearn.metrics import f1_score\n",
    "from sklearn.metrics import recall_score\n",
    "from sklearn.metrics import precision_score\n",
    "\n"
   ]
  },
  {
   "cell_type": "code",
   "execution_count": 32,
   "metadata": {},
   "outputs": [],
   "source": [
    "metrics = [roc_auc_score, accuracy_score, classification_report, cohen_kappa_score, f1_score, recall_score, precision_score]"
   ]
  },
  {
   "cell_type": "code",
   "execution_count": 33,
   "metadata": {},
   "outputs": [
    {
     "name": "stdout",
     "output_type": "stream",
     "text": [
      "0.6038564840479032\n",
      "0.6668692679220709\n",
      "             precision    recall  f1-score   support\n",
      "\n",
      "      False       0.88      0.70      0.78     77504\n",
      "       True       0.24      0.51      0.33     14631\n",
      "\n",
      "avg / total       0.78      0.67      0.71     92135\n",
      "\n",
      "0.1427948449615677\n",
      "0.3278071001511137\n",
      "0.5115166427448569\n",
      "0.241185949081534\n"
     ]
    },
    {
     "data": {
      "text/plain": [
       "[None, None, None, None, None, None, None]"
      ]
     },
     "execution_count": 33,
     "metadata": {},
     "output_type": "execute_result"
    }
   ],
   "source": [
    "[print(metrics[i](y_pred, y_test)) for i in range(len(metrics))]"
   ]
  },
  {
   "cell_type": "markdown",
   "metadata": {},
   "source": [
    "here we could see that auc/kappa/f1 score could reveal the performance of model, while the other metrics are not valid enough. so we will choose these 3 metrics."
   ]
  },
  {
   "cell_type": "code",
   "execution_count": 34,
   "metadata": {},
   "outputs": [],
   "source": [
    "used_metrics = [roc_auc_score, cohen_kappa_score, f1_score]"
   ]
  },
  {
   "cell_type": "markdown",
   "metadata": {},
   "source": [
    "### 3. final_fitting"
   ]
  },
  {
   "cell_type": "code",
   "execution_count": 35,
   "metadata": {},
   "outputs": [],
   "source": [
    "from h2o.estimators.glm import H2OGeneralizedLinearEstimator"
   ]
  },
  {
   "cell_type": "code",
   "execution_count": 36,
   "metadata": {},
   "outputs": [
    {
     "name": "stdout",
     "output_type": "stream",
     "text": [
      "Parse progress: |█████████████████████████████████████████████████████████| 100%\n"
     ]
    }
   ],
   "source": [
    "data1 = h2o.import_file('transformed_data.csv')"
   ]
  },
  {
   "cell_type": "code",
   "execution_count": 37,
   "metadata": {},
   "outputs": [],
   "source": [
    "cols = data1.col_names"
   ]
  },
  {
   "cell_type": "code",
   "execution_count": 38,
   "metadata": {},
   "outputs": [
    {
     "data": {
      "text/plain": [
       "['C1',\n",
       " 'Lat',\n",
       " 'Alt',\n",
       " 'Provider',\n",
       " 'FixSatCount',\n",
       " 'HasRadialAccuracy',\n",
       " 'HasVerticalAccuracy',\n",
       " 'HasSpeed',\n",
       " 'Speed',\n",
       " 'HasBearing',\n",
       " 'Bearing',\n",
       " 'BearingAccuracy',\n",
       " 'n',\n",
       " 'Attack']"
      ]
     },
     "execution_count": 38,
     "metadata": {},
     "output_type": "execute_result"
    }
   ],
   "source": [
    "cols"
   ]
  },
  {
   "cell_type": "code",
   "execution_count": 40,
   "metadata": {},
   "outputs": [],
   "source": [
    "#split the data as described above\n",
    "train, valid, test = data1.split_frame([0.7, 0.15], seed=1234)\n",
    "\n",
    "#Prepare predictors and response columns\n",
    "X_train = cols[:-1]     #last column is Attack, our desired response variable \n",
    "y_train = cols[-1]    "
   ]
  },
  {
   "cell_type": "code",
   "execution_count": 41,
   "metadata": {},
   "outputs": [],
   "source": [
    "# Import H2O RF:\n",
    "from h2o.estimators.random_forest import H2ORandomForestEstimator"
   ]
  },
  {
   "cell_type": "code",
   "execution_count": 42,
   "metadata": {},
   "outputs": [],
   "source": [
    "# Initialize the RF estimator:\n",
    "\n",
    "rf_fit1 = H2ORandomForestEstimator(model_id='rf_fit1', seed=1)"
   ]
  },
  {
   "cell_type": "code",
   "execution_count": 43,
   "metadata": {},
   "outputs": [
    {
     "name": "stdout",
     "output_type": "stream",
     "text": [
      "drf Model Build progress: |███████████████████████████████████████████████| 100%\n"
     ]
    }
   ],
   "source": [
    "rf_fit1.train(X_train, y_train, training_frame=train, validation_frame=valid)"
   ]
  },
  {
   "cell_type": "code",
   "execution_count": 44,
   "metadata": {},
   "outputs": [],
   "source": [
    "rf_perf1 = rf_fit1.model_performance(test)"
   ]
  },
  {
   "cell_type": "code",
   "execution_count": 45,
   "metadata": {},
   "outputs": [
    {
     "name": "stdout",
     "output_type": "stream",
     "text": [
      "0.9999999912112737\n",
      "Confusion Matrix (Act/Pred) for max f1 @ threshold = 0.5519436418265105: \n"
     ]
    },
    {
     "data": {
      "text/html": [
       "<div style=\"overflow:auto\"><table style=\"width:50%\"><tr><td><b></b></td>\n",
       "<td><b>False</b></td>\n",
       "<td><b>True</b></td>\n",
       "<td><b>Error</b></td>\n",
       "<td><b>Rate</b></td></tr>\n",
       "<tr><td>False</td>\n",
       "<td>36455.0</td>\n",
       "<td>0.0</td>\n",
       "<td>0.0</td>\n",
       "<td> (0.0/36455.0)</td></tr>\n",
       "<tr><td>True</td>\n",
       "<td>2.0</td>\n",
       "<td>18725.0</td>\n",
       "<td>0.0001</td>\n",
       "<td> (2.0/18727.0)</td></tr>\n",
       "<tr><td>Total</td>\n",
       "<td>36457.0</td>\n",
       "<td>18725.0</td>\n",
       "<td>0.0</td>\n",
       "<td> (2.0/55182.0)</td></tr></table></div>"
      ],
      "text/plain": [
       "       False    True    Error    Rate\n",
       "-----  -------  ------  -------  -------------\n",
       "False  36455    0       0        (0.0/36455.0)\n",
       "True   2        18725   0.0001   (2.0/18727.0)\n",
       "Total  36457    18725   0        (2.0/55182.0)"
      ]
     },
     "metadata": {},
     "output_type": "display_data"
    },
    {
     "name": "stdout",
     "output_type": "stream",
     "text": [
      "\n"
     ]
    }
   ],
   "source": [
    "# Retreive test set auc\n",
    "print(rf_perf1.auc())\n",
    "print(rf_perf1.confusion_matrix())"
   ]
  },
  {
   "cell_type": "code",
   "execution_count": 46,
   "metadata": {},
   "outputs": [],
   "source": [
    "# try more complicated model\n",
    "rf_fit2 = H2ORandomForestEstimator(model_id='rf_fit1', ntrees = 200, seed=1)"
   ]
  },
  {
   "cell_type": "code",
   "execution_count": 47,
   "metadata": {},
   "outputs": [
    {
     "name": "stdout",
     "output_type": "stream",
     "text": [
      "drf Model Build progress: |███████████████████████████████████████████████| 100%\n"
     ]
    }
   ],
   "source": [
    "rf_fit2.train(X_train, y_train, training_frame=train, validation_frame=valid)"
   ]
  },
  {
   "cell_type": "code",
   "execution_count": 48,
   "metadata": {},
   "outputs": [],
   "source": [
    "rf_perf2 = rf_fit2.model_performance(test)"
   ]
  },
  {
   "cell_type": "code",
   "execution_count": 49,
   "metadata": {},
   "outputs": [
    {
     "name": "stdout",
     "output_type": "stream",
     "text": [
      "0.9999999729014275\n",
      "Confusion Matrix (Act/Pred) for max f1 @ threshold = 0.4648073147679679: \n"
     ]
    },
    {
     "data": {
      "text/html": [
       "<div style=\"overflow:auto\"><table style=\"width:50%\"><tr><td><b></b></td>\n",
       "<td><b>False</b></td>\n",
       "<td><b>True</b></td>\n",
       "<td><b>Error</b></td>\n",
       "<td><b>Rate</b></td></tr>\n",
       "<tr><td>False</td>\n",
       "<td>36453.0</td>\n",
       "<td>2.0</td>\n",
       "<td>0.0001</td>\n",
       "<td> (2.0/36455.0)</td></tr>\n",
       "<tr><td>True</td>\n",
       "<td>0.0</td>\n",
       "<td>18727.0</td>\n",
       "<td>0.0</td>\n",
       "<td> (0.0/18727.0)</td></tr>\n",
       "<tr><td>Total</td>\n",
       "<td>36453.0</td>\n",
       "<td>18729.0</td>\n",
       "<td>0.0</td>\n",
       "<td> (2.0/55182.0)</td></tr></table></div>"
      ],
      "text/plain": [
       "       False    True    Error    Rate\n",
       "-----  -------  ------  -------  -------------\n",
       "False  36453    2       0.0001   (2.0/36455.0)\n",
       "True   0        18727   0        (0.0/18727.0)\n",
       "Total  36453    18729   0        (2.0/55182.0)"
      ]
     },
     "metadata": {},
     "output_type": "display_data"
    },
    {
     "name": "stdout",
     "output_type": "stream",
     "text": [
      "\n"
     ]
    }
   ],
   "source": [
    "# Retreive test set mse\n",
    "print(rf_perf2.auc())\n",
    "print(rf_perf2.confusion_matrix())"
   ]
  },
  {
   "cell_type": "markdown",
   "metadata": {},
   "source": [
    "This is the final step of whole project. During this project we discussed how to abstract the problem to mathmatical problem and solve it with machine learning algorithms gradually. A lot of data processing are discussed."
   ]
  }
 ],
 "metadata": {
  "kernelspec": {
   "display_name": "Python 3",
   "language": "python",
   "name": "python3"
  },
  "language_info": {
   "codemirror_mode": {
    "name": "ipython",
    "version": 3
   },
   "file_extension": ".py",
   "mimetype": "text/x-python",
   "name": "python",
   "nbconvert_exporter": "python",
   "pygments_lexer": "ipython3",
   "version": "3.6.4"
  }
 },
 "nbformat": 4,
 "nbformat_minor": 2
}
