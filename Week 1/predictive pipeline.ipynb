{
 "cells": [
  {
   "cell_type": "markdown",
   "metadata": {},
   "source": [
    "# 1. Import necessary packages"
   ]
  },
  {
   "cell_type": "code",
   "execution_count": 2,
   "metadata": {},
   "outputs": [],
   "source": [
    "# basic package\n",
    "import numpy as np\n",
    "import pandas as pd\n",
    "import matplotlib.pyplot as plt\n",
    "import seaborn as sns\n",
    "sns.set(style = 'white')\n",
    "%matplotlib inline"
   ]
  },
  {
   "cell_type": "code",
   "execution_count": null,
   "metadata": {},
   "outputs": [],
   "source": [
    "# sklearn function import\n",
    "from sklearn.model_selection import train_test_split\n",
    "from sklearn.linear_model import LogisticRegression"
   ]
  },
  {
   "cell_type": "markdown",
   "metadata": {},
   "source": [
    "# 2. import dataset\n",
    "should do ETL manipulation before import data into python, which should be done in postgresql."
   ]
  },
  {
   "cell_type": "code",
   "execution_count": null,
   "metadata": {},
   "outputs": [],
   "source": [
    "PAHT = ''\n",
    "data = pd.read_csv(PATH)"
   ]
  },
  {
   "cell_type": "code",
   "execution_count": null,
   "metadata": {},
   "outputs": [],
   "source": [
    "data.describe()"
   ]
  },
  {
   "cell_type": "code",
   "execution_count": null,
   "metadata": {},
   "outputs": [],
   "source": [
    "data.head()"
   ]
  },
  {
   "cell_type": "code",
   "execution_count": null,
   "metadata": {},
   "outputs": [],
   "source": [
    " "
   ]
  },
  {
   "cell_type": "code",
   "execution_count": null,
   "metadata": {},
   "outputs": [],
   "source": []
  },
  {
   "cell_type": "markdown",
   "metadata": {},
   "source": [
    "# 3. feature engineering and split the dataset"
   ]
  },
  {
   "cell_type": "code",
   "execution_count": null,
   "metadata": {},
   "outputs": [],
   "source": [
    "# standardize the feature.\n",
    "\n",
    "k = data.shape[1]\n",
    "Data = data.copy()\n",
    "Data.iloc[:,0:k-1] = Data.iloc[:,0:k-1].apply(lambda x: (x - x.mean()) / x.std()).replace(np.nan, 0)\n",
    "Data.iloc[:,[k-1]] = Data.iloc[:,[k-1]].apply(lambda x: (x - np.min(x)) / (np.max(x) - np.min(x)))"
   ]
  },
  {
   "cell_type": "code",
   "execution_count": null,
   "metadata": {},
   "outputs": [],
   "source": [
    "# pair visulization of the dataset\n",
    "\n",
    "grr = pd.plotting.scatter_matrix(Data, figsize=(20, 20), marker='o',\n",
    "                                 hist_kwds={'bins': 20}, s=60, alpha=.8)\n",
    "plt.savefig('Matrix scatterplot of GPS data.png')\n",
    "plt.title('Matrix scatterplot of GPS data.png')"
   ]
  },
  {
   "cell_type": "code",
   "execution_count": null,
   "metadata": {},
   "outputs": [],
   "source": [
    "X = CRT1.iloc[:,0:k-1]\n",
    "y = CRT1.iloc[:,[k-1]]"
   ]
  },
  {
   "cell_type": "code",
   "execution_count": null,
   "metadata": {},
   "outputs": [],
   "source": [
    "X_train, X_test, y_train, y_test = train_test_split(X, np.squeeze(y), test_size=0.0.2, random_state=847)"
   ]
  },
  {
   "cell_type": "markdown",
   "metadata": {},
   "source": [
    "# 4. model fitting"
   ]
  },
  {
   "cell_type": "code",
   "execution_count": null,
   "metadata": {},
   "outputs": [],
   "source": [
    "# Binary Logistic Regression\n",
    "\n",
    "Logistic = LogisticRegression(random_state=0,\n",
    "                              penalty = 'l1', # since out input is sparse\n",
    "                              solver='liblinear', # for l1\n",
    "                              multi_class='ovr')\n",
    "\n",
    "Logistic.fit(X_train, y_train)"
   ]
  },
  {
   "cell_type": "code",
   "execution_count": null,
   "metadata": {},
   "outputs": [],
   "source": [
    "# other models\n",
    "\n",
    "# decision tree classifier\n",
    "\n",
    "# random forest classifier\n",
    "RF = RandomForestClassifier(n_estimators=100, \n",
    "                             max_depth=8,\n",
    "                             random_state=42)\n",
    "# support vector machine classifier\n",
    "\n",
    "# MLP classifier\n",
    "mlp_lr = MLPClassifier(hidden_layer_sizes=(10, ),\n",
    "                   activation = 'logistic', # identity: linear, logistic; relu; tanh\n",
    "                   learning_rate_init = 0.01, # decay\n",
    "                   max_iter = 1000\n",
    "                  )\n",
    "# xgboost classifier\n",
    "\n",
    "# lightGBM classifier\n",
    "\n"
   ]
  },
  {
   "cell_type": "markdown",
   "metadata": {},
   "source": [
    "# 5. Model Evaluation and comparison"
   ]
  },
  {
   "cell_type": "code",
   "execution_count": null,
   "metadata": {},
   "outputs": [],
   "source": [
    "# generating evaluation array\n",
    "name = []\n",
    "score = []"
   ]
  },
  {
   "cell_type": "code",
   "execution_count": null,
   "metadata": {},
   "outputs": [],
   "source": [
    "y_pred = Logistic.predict_proba(X_test)\n",
    "name.append('logistic regression')\n",
    "score.appeend(logistic.score(y_pred, y_hat))"
   ]
  },
  {
   "cell_type": "code",
   "execution_count": null,
   "metadata": {},
   "outputs": [],
   "source": [
    "# cross validation\n",
    "# python code for 3 model's CV\n",
    "\n",
    "from sklearn.model_selection import cross_val_score\n",
    "from sklearn.neural_network import MLPClassifier\n",
    "from sklearn.ensemble import RandomForestClassifier\n",
    "\n",
    "\n",
    "RF = RandomForestClassifier(n_estimators=100, \n",
    "                             max_depth=8,\n",
    "                             random_state=42)\n",
    "\n",
    "mlp_lr = MLPClassifier(hidden_layer_sizes=(10, ),\n",
    "                   activation = 'logistic', # identity: linear, logistic; relu; tanh\n",
    "                   learning_rate_init = 0.01, # decay\n",
    "                   max_iter = 1000\n",
    "                  )\n",
    "Logistic = LogisticRegression(random_state=0,\n",
    "                              penalty = 'l1', # since out input is sparse\n",
    "                              solver='liblinear', # for l1\n",
    "                              multi_class='ovr')\n",
    "\n",
    "models = np.array([RF, mlp_lr, Logistic])\n",
    "\n",
    "MSE = np.array([-cross_val_score(model, X, np.squeeze(y), n_jobs = -1, cv=3, scoring='None') for model in models])\n",
    "\n"
   ]
  }
 ],
 "metadata": {
  "kernelspec": {
   "display_name": "Python 3",
   "language": "python",
   "name": "python3"
  },
  "language_info": {
   "codemirror_mode": {
    "name": "ipython",
    "version": 3
   },
   "file_extension": ".py",
   "mimetype": "text/x-python",
   "name": "python",
   "nbconvert_exporter": "python",
   "pygments_lexer": "ipython3",
   "version": "3.6.4"
  }
 },
 "nbformat": 4,
 "nbformat_minor": 2
}
